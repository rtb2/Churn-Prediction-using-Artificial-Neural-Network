{
  "cells": [
    {
      "metadata": {
        "_uuid": "8f2839f25d086af736a60e9eeb907d3b93b6e0e5",
        "_cell_guid": "b1076dfc-b9ad-4769-8c92-a6c4dae69d19",
        "trusted": true
      },
      "cell_type": "code",
      "source": "#Data Preprocessing\n#Importing required libraries\nimport os\nimport numpy as np\nimport matplotlib.pyplot as plt\nimport pandas as pd",
      "execution_count": 39,
      "outputs": []
    },
    {
      "metadata": {
        "_cell_guid": "79c7e3d0-c299-4dcb-8224-4455121ee9b0",
        "_uuid": "d629ff2d2480ee46fbb7e2d37f6b5fab8052498a",
        "trusted": true
      },
      "cell_type": "code",
      "source": "os.getcwd()\nos.chdir(\"/kaggle/input\")",
      "execution_count": 40,
      "outputs": []
    },
    {
      "metadata": {
        "trusted": true,
        "_uuid": "08e079880746e517292eb42b0d34f46e47b73b59"
      },
      "cell_type": "code",
      "source": "#Importing dataset\ndataset = pd.read_csv(\"Churn_Modelling.csv\")\nX = dataset.iloc[:, 3:13].values\ny = dataset.iloc[:, -1].values",
      "execution_count": 41,
      "outputs": []
    },
    {
      "metadata": {
        "trusted": true,
        "_uuid": "592fa34cf514fb4166769357e30093034dc5b156"
      },
      "cell_type": "code",
      "source": "#Encoding the categorical variable\nfrom sklearn.preprocessing import LabelEncoder, OneHotEncoder\nlabelencoder_X_1 = LabelEncoder()\nX[:, 1] = labelencoder_X_1.fit_transform(X[:, 1])\nlabelencoder_X_2 = LabelEncoder()\nX[:,2] = labelencoder_X_2.fit_transform(X[:, 2])\n\n#Creating Dummy variables foe country variable\nonehotencoder = OneHotEncoder(categorical_features=[1])\nX = onehotencoder.fit_transform(X).toarray()\nX = X[:, 1:]",
      "execution_count": 42,
      "outputs": []
    },
    {
      "metadata": {
        "trusted": true,
        "_uuid": "7dd6b9d86b490054999d431a3e94024e8d02e6c3"
      },
      "cell_type": "code",
      "source": "#Splitting the dataset into Training and test set\nfrom sklearn.model_selection import train_test_split\nX_train, X_test, y_train, y_test = train_test_split(X,y, test_size = 0.2, random_state=0)",
      "execution_count": 43,
      "outputs": []
    },
    {
      "metadata": {
        "trusted": true,
        "_uuid": "4a2371e89b8141c0522a1dcb279aaf1db5d8a333"
      },
      "cell_type": "code",
      "source": "#Feature Scaling\nfrom sklearn.preprocessing import StandardScaler\nsc = StandardScaler()\nX_train = sc.fit_transform(X_train)\nX_test = sc.transform(X_test)",
      "execution_count": 44,
      "outputs": []
    },
    {
      "metadata": {
        "trusted": true,
        "_uuid": "9868723e4de2136f227bb5826dd640b6d33e85c8"
      },
      "cell_type": "code",
      "source": "#Artificail Neural Network (ANN)\n#Import Keras Library and packages\nimport keras\nfrom keras.models import Sequential\nfrom keras.layers import Dense",
      "execution_count": 45,
      "outputs": []
    },
    {
      "metadata": {
        "trusted": true,
        "_uuid": "050ae442f84c25e6722e5ff75dd9447bdeb5017d"
      },
      "cell_type": "code",
      "source": "#Initializing the ANN\nclassifier = Sequential()",
      "execution_count": 46,
      "outputs": []
    },
    {
      "metadata": {
        "trusted": true,
        "_uuid": "1f91097761aa718d364119993b4c0303c482757e"
      },
      "cell_type": "code",
      "source": "#Adding input layer and first hidden layer\nclassifier.add(Dense(units = 6, activation='relu', input_shape = (X.shape[1],)))",
      "execution_count": 47,
      "outputs": []
    },
    {
      "metadata": {
        "trusted": true,
        "_uuid": "41ca299d7ac2474e8b9f54a845fa02083229a06e"
      },
      "cell_type": "code",
      "source": "#Adding the second hidden layer\nclassifier.add(Dense(units = 6, activation='relu'))",
      "execution_count": 48,
      "outputs": []
    },
    {
      "metadata": {
        "trusted": true,
        "_uuid": "f2fdbad7144e8a4f35aa469f9724028fa2e57dc6"
      },
      "cell_type": "code",
      "source": "#Adding Output Layer\nclassifier.add(Dense(units = 1, activation='sigmoid'))",
      "execution_count": 49,
      "outputs": []
    },
    {
      "metadata": {
        "trusted": true,
        "_uuid": "ff309ac39040b318800924624ab151f40cbb3c64"
      },
      "cell_type": "code",
      "source": "#Compiling the ANN\nclassifier.compile(optimizer='adam', loss= 'binary_crossentropy', metrics=['accuracy'])",
      "execution_count": 50,
      "outputs": []
    },
    {
      "metadata": {
        "trusted": true,
        "_uuid": "adf73fa8fe33d2a8bd4d2243cc28da0dd154817d"
      },
      "cell_type": "code",
      "source": "from keras.callbacks import EarlyStopping\nearrly_stopping_monitor  = EarlyStopping(patience=5, monitor='loss')",
      "execution_count": 51,
      "outputs": []
    },
    {
      "metadata": {
        "trusted": true,
        "scrolled": false,
        "_uuid": "62ad3346d2c9cdf1051e4cd139f50f1f65f049b2"
      },
      "cell_type": "code",
      "source": "#Fitting the ANN to Training set\nclassifier.fit(X_train, y_train, batch_size=10, epochs=100, callbacks=[earrly_stopping_monitor])",
      "execution_count": 52,
      "outputs": [
        {
          "output_type": "stream",
          "text": "Epoch 1/100\n8000/8000 [==============================] - 4s 475us/step - loss: 0.5199 - acc: 0.7837\nEpoch 2/100\n8000/8000 [==============================] - 3s 436us/step - loss: 0.4461 - acc: 0.7960\nEpoch 3/100\n8000/8000 [==============================] - 3s 436us/step - loss: 0.4291 - acc: 0.7960\nEpoch 4/100\n8000/8000 [==============================] - 3s 437us/step - loss: 0.4209 - acc: 0.7959\nEpoch 5/100\n8000/8000 [==============================] - 3s 435us/step - loss: 0.4130 - acc: 0.8049\nEpoch 6/100\n8000/8000 [==============================] - 3s 434us/step - loss: 0.4033 - acc: 0.8211\nEpoch 7/100\n8000/8000 [==============================] - 3s 437us/step - loss: 0.3921 - acc: 0.8234\nEpoch 8/100\n8000/8000 [==============================] - 3s 433us/step - loss: 0.3820 - acc: 0.8379\nEpoch 9/100\n8000/8000 [==============================] - 4s 443us/step - loss: 0.3745 - acc: 0.8416\nEpoch 10/100\n8000/8000 [==============================] - 3s 435us/step - loss: 0.3700 - acc: 0.8457\nEpoch 11/100\n8000/8000 [==============================] - 3s 432us/step - loss: 0.3660 - acc: 0.8492\nEpoch 12/100\n8000/8000 [==============================] - 3s 436us/step - loss: 0.3619 - acc: 0.8486\nEpoch 13/100\n8000/8000 [==============================] - 4s 438us/step - loss: 0.3597 - acc: 0.8506\nEpoch 14/100\n8000/8000 [==============================] - 4s 438us/step - loss: 0.3576 - acc: 0.8515\nEpoch 15/100\n8000/8000 [==============================] - 3s 437us/step - loss: 0.3556 - acc: 0.8534\nEpoch 16/100\n8000/8000 [==============================] - 4s 438us/step - loss: 0.3543 - acc: 0.8544\nEpoch 17/100\n8000/8000 [==============================] - 3s 433us/step - loss: 0.3527 - acc: 0.8532\nEpoch 18/100\n8000/8000 [==============================] - 3s 436us/step - loss: 0.3515 - acc: 0.8542\nEpoch 19/100\n8000/8000 [==============================] - 4s 440us/step - loss: 0.3514 - acc: 0.8555\nEpoch 20/100\n8000/8000 [==============================] - 3s 434us/step - loss: 0.3508 - acc: 0.8564\nEpoch 21/100\n8000/8000 [==============================] - 3s 436us/step - loss: 0.3504 - acc: 0.8565\nEpoch 22/100\n8000/8000 [==============================] - 4s 438us/step - loss: 0.3499 - acc: 0.8562\nEpoch 23/100\n8000/8000 [==============================] - 3s 434us/step - loss: 0.3492 - acc: 0.8556\nEpoch 24/100\n8000/8000 [==============================] - 3s 435us/step - loss: 0.3494 - acc: 0.8565\nEpoch 25/100\n8000/8000 [==============================] - 3s 434us/step - loss: 0.3488 - acc: 0.8575\nEpoch 26/100\n8000/8000 [==============================] - 4s 443us/step - loss: 0.3481 - acc: 0.8569\nEpoch 27/100\n8000/8000 [==============================] - 4s 439us/step - loss: 0.3474 - acc: 0.8590\nEpoch 28/100\n8000/8000 [==============================] - 3s 435us/step - loss: 0.3486 - acc: 0.8589\nEpoch 29/100\n8000/8000 [==============================] - 4s 438us/step - loss: 0.3476 - acc: 0.8581\nEpoch 30/100\n8000/8000 [==============================] - 3s 436us/step - loss: 0.3483 - acc: 0.8595\nEpoch 31/100\n8000/8000 [==============================] - 3s 435us/step - loss: 0.3469 - acc: 0.8602\nEpoch 32/100\n8000/8000 [==============================] - 3s 437us/step - loss: 0.3475 - acc: 0.8586\nEpoch 33/100\n8000/8000 [==============================] - 4s 439us/step - loss: 0.3476 - acc: 0.8590\nEpoch 34/100\n8000/8000 [==============================] - 3s 434us/step - loss: 0.3469 - acc: 0.8570\nEpoch 35/100\n8000/8000 [==============================] - 4s 447us/step - loss: 0.3464 - acc: 0.8575\nEpoch 36/100\n8000/8000 [==============================] - 4s 443us/step - loss: 0.3461 - acc: 0.8586\nEpoch 37/100\n8000/8000 [==============================] - 4s 441us/step - loss: 0.3471 - acc: 0.8585\nEpoch 38/100\n8000/8000 [==============================] - 4s 438us/step - loss: 0.3464 - acc: 0.8600\nEpoch 39/100\n8000/8000 [==============================] - 4s 439us/step - loss: 0.3461 - acc: 0.8597\nEpoch 40/100\n8000/8000 [==============================] - 3s 436us/step - loss: 0.3468 - acc: 0.8591\nEpoch 41/100\n8000/8000 [==============================] - 3s 437us/step - loss: 0.3459 - acc: 0.8597\nEpoch 42/100\n8000/8000 [==============================] - 3s 435us/step - loss: 0.3460 - acc: 0.8606\nEpoch 43/100\n8000/8000 [==============================] - 4s 443us/step - loss: 0.3462 - acc: 0.8590\nEpoch 44/100\n8000/8000 [==============================] - 3s 437us/step - loss: 0.3452 - acc: 0.8601\nEpoch 45/100\n8000/8000 [==============================] - 3s 436us/step - loss: 0.3465 - acc: 0.8574\nEpoch 46/100\n8000/8000 [==============================] - 3s 435us/step - loss: 0.3461 - acc: 0.8606\nEpoch 47/100\n8000/8000 [==============================] - 3s 435us/step - loss: 0.3458 - acc: 0.8597\nEpoch 48/100\n8000/8000 [==============================] - 4s 438us/step - loss: 0.3461 - acc: 0.8600\nEpoch 49/100\n8000/8000 [==============================] - 3s 437us/step - loss: 0.3465 - acc: 0.8600\n",
          "name": "stdout"
        },
        {
          "output_type": "execute_result",
          "execution_count": 52,
          "data": {
            "text/plain": "<keras.callbacks.History at 0x7f099b0f5ac8>"
          },
          "metadata": {}
        }
      ]
    },
    {
      "metadata": {
        "trusted": true,
        "_uuid": "86b3853034ed73a2a0c2bc54bb0b2163edf98563"
      },
      "cell_type": "code",
      "source": "#Predictions\ny_pred = classifier.predict(X_test)\ny_pred = (y_pred>0.5)",
      "execution_count": 53,
      "outputs": []
    },
    {
      "metadata": {
        "trusted": true,
        "_uuid": "bcc39422f15c1ccf60aa3737cf57d7fccf5f9866"
      },
      "cell_type": "code",
      "source": "from sklearn.metrics import confusion_matrix\ncm  = confusion_matrix(y_test, y_pred)\ncm",
      "execution_count": 54,
      "outputs": [
        {
          "output_type": "execute_result",
          "execution_count": 54,
          "data": {
            "text/plain": "array([[1492,  103],\n       [ 189,  216]])"
          },
          "metadata": {}
        }
      ]
    },
    {
      "metadata": {
        "trusted": true,
        "_uuid": "3b3af5432d4df1ddbfdbd9d27cb0f41c18f7299b"
      },
      "cell_type": "code",
      "source": "from sklearn.metrics import accuracy_score\naccuracy_score(y_test, y_pred)",
      "execution_count": 55,
      "outputs": [
        {
          "output_type": "execute_result",
          "execution_count": 55,
          "data": {
            "text/plain": "0.854"
          },
          "metadata": {}
        }
      ]
    },
    {
      "metadata": {
        "trusted": true,
        "_uuid": "b4bf4c7c1dad662ce93972766ca14c48c51a9edc"
      },
      "cell_type": "code",
      "source": "",
      "execution_count": null,
      "outputs": []
    },
    {
      "metadata": {
        "trusted": true,
        "_uuid": "526197d231dfc8065c6ec4400ca2b19e7ccf90b6"
      },
      "cell_type": "code",
      "source": "",
      "execution_count": null,
      "outputs": []
    },
    {
      "metadata": {
        "trusted": true,
        "_uuid": "8dd1be9e6ba26143557313e5ca68ecb46de54e53"
      },
      "cell_type": "code",
      "source": "",
      "execution_count": null,
      "outputs": []
    },
    {
      "metadata": {
        "trusted": true,
        "_uuid": "923a699a77925fca06dd15a5da1b5274aa338107"
      },
      "cell_type": "code",
      "source": "",
      "execution_count": null,
      "outputs": []
    }
  ],
  "metadata": {
    "kernelspec": {
      "display_name": "Python 3",
      "language": "python",
      "name": "python3"
    },
    "language_info": {
      "name": "python",
      "version": "3.6.6",
      "mimetype": "text/x-python",
      "codemirror_mode": {
        "name": "ipython",
        "version": 3
      },
      "pygments_lexer": "ipython3",
      "nbconvert_exporter": "python",
      "file_extension": ".py"
    }
  },
  "nbformat": 4,
  "nbformat_minor": 1
}